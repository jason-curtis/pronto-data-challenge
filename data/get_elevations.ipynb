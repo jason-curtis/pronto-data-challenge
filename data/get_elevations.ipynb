{
 "cells": [
  {
   "cell_type": "code",
   "execution_count": 2,
   "metadata": {
    "collapsed": true
   },
   "outputs": [],
   "source": [
    "import json\n",
    "import os\n",
    "import urllib.request\n",
    "\n",
    "import petl"
   ]
  },
  {
   "cell_type": "code",
   "execution_count": 5,
   "metadata": {
    "collapsed": false
   },
   "outputs": [],
   "source": [
    "stations_table = petl.fromcsv('raw/2015_station_data.csv')"
   ]
  },
  {
   "cell_type": "code",
   "execution_count": 6,
   "metadata": {
    "collapsed": false
   },
   "outputs": [
    {
     "name": "stdout",
     "output_type": "stream",
     "text": [
      "fetching elevation data from Google API at https://maps.googleapis.com/maps/api/elevation/json?locations=47.618418,-122.350964|47.615829,-122.348564|47.616094,-122.341102|47.61311,-122.344208|47.610185,-122.339641|47.610731,-122.332447|47.603509,-122.330409|47.613715,-122.331777|47.60595,-122.335768|47.618633,-122.325249|47.622063,-122.321251|47.623367,-122.325279|47.620712,-122.312805|47.618549,-122.317017|47.61533,-122.311752|47.615486,-122.318245|47.615517,-122.322083|47.615456,-122.326729|47.624142,-122.316811|47.624298,-122.339617|47.663509,-122.284119|47.627643,-122.332576|47.634831,-122.326634|47.64909,-122.322983|47.607281,-122.324783|47.609239,-122.316651|47.598488,-122.326412|47.598994,-122.329684|47.600757,-122.332946|47.619859,-122.330304|47.627735,-122.342232|47.623165,-122.338203|47.61832,-122.338913|47.613628,-122.337341|47.626041,-122.335831|47.618285,-122.342205|47.622277,-122.35523|47.666145,-122.301491|47.658288,-122.313334|47.656395,-122.31562|47.663143,-122.315086|47.660268,-122.304826|47.659756,-122.310402|47.65559,-122.31189|47.654613,-122.304863|47.653713,-122.302162|47.650725,-122.311188|47.614315,-122.354093|47.607702,-122.34165|47.604058,-122.3358|47.602103,-122.316923|47.61626,-122.333815|47.609221,-122.335596|47.624769,-122.339408\n"
     ]
    },
    {
     "data": {
      "text/html": [
       "<table class='petl'>\n",
       "<thead>\n",
       "<tr>\n",
       "<th>elevation</th>\n",
       "<th>lat</th>\n",
       "<th>lon</th>\n",
       "</tr>\n",
       "</thead>\n",
       "<tbody>\n",
       "<tr>\n",
       "<td style='text-align: right'>37.35177993774414</td>\n",
       "<td style='text-align: right'>47.618418</td>\n",
       "<td style='text-align: right'>-122.350964</td>\n",
       "</tr>\n",
       "<tr>\n",
       "<td style='text-align: right'>33.81583023071289</td>\n",
       "<td style='text-align: right'>47.615829</td>\n",
       "<td style='text-align: right'>-122.348564</td>\n",
       "</tr>\n",
       "<tr>\n",
       "<td style='text-align: right'>34.27405548095703</td>\n",
       "<td style='text-align: right'>47.616094</td>\n",
       "<td style='text-align: right'>-122.341102</td>\n",
       "</tr>\n",
       "<tr>\n",
       "<td style='text-align: right'>44.28325653076172</td>\n",
       "<td style='text-align: right'>47.61311</td>\n",
       "<td style='text-align: right'>-122.344208</td>\n",
       "</tr>\n",
       "<tr>\n",
       "<td style='text-align: right'>42.46038055419922</td>\n",
       "<td style='text-align: right'>47.610185</td>\n",
       "<td style='text-align: right'>-122.339641</td>\n",
       "</tr>\n",
       "</tbody>\n",
       "</table>\n",
       "<p><strong>...</strong></p>"
      ],
      "text/plain": [
       "+-------------------+-----------+-------------+\n",
       "| elevation         | lat       | lon         |\n",
       "+===================+===========+=============+\n",
       "| 37.35177993774414 | 47.618418 | -122.350964 |\n",
       "+-------------------+-----------+-------------+\n",
       "| 33.81583023071289 | 47.615829 | -122.348564 |\n",
       "+-------------------+-----------+-------------+\n",
       "| 34.27405548095703 | 47.616094 | -122.341102 |\n",
       "+-------------------+-----------+-------------+\n",
       "| 44.28325653076172 |  47.61311 | -122.344208 |\n",
       "+-------------------+-----------+-------------+\n",
       "| 42.46038055419922 | 47.610185 | -122.339641 |\n",
       "+-------------------+-----------+-------------+\n",
       "..."
      ]
     },
     "execution_count": 6,
     "metadata": {},
     "output_type": "execute_result"
    }
   ],
   "source": [
    "json_elevations_filename = 'elevations.json'\n",
    "csv_elevations_filename = 'elevations.csv'\n",
    "\n",
    "# Get station elevations via Google Maps API. use of the API inspired by https://jakevdp.github.io/blog/2015/10/17/analyzing-pronto-cycleshare-data-with-python-and-pandas/\n",
    "url = \"https://maps.googleapis.com/maps/api/elevation/json?locations=\" + \\\n",
    "    '|'.join([\n",
    "        '{0},{1}'.format(record.lat, record.long)\n",
    "        for record in stations_table.records()\n",
    "    ])\n",
    "print('fetching elevation data from Google API at', url)\n",
    "urllib.request.urlretrieve(url, json_elevations_filename)\n",
    "\n",
    "with open(json_elevations_filename) as json_elevations_file:\n",
    "    lat_lon_elevation_table = petl.fromdicts([\n",
    "        {'elevation': result['elevation'], 'lat': result['location']['lat'], 'lon': result['location']['lng']}\n",
    "        for result in json.load(json_elevations_file)['results']\n",
    "    ])\n",
    "lat_lon_elevation_table.tocsv(csv_elevations_filename)\n",
    "lat_lon_elevation_table"
   ]
  },
  {
   "cell_type": "code",
   "execution_count": 8,
   "metadata": {
    "collapsed": false
   },
   "outputs": [
    {
     "data": {
      "text/html": [
       "<table class='petl'>\n",
       "<thead>\n",
       "<tr>\n",
       "<th>id</th>\n",
       "<th>name</th>\n",
       "<th>terminal</th>\n",
       "<th>lat</th>\n",
       "<th>long</th>\n",
       "<th>dockcount</th>\n",
       "<th>online</th>\n",
       "<th>elevation</th>\n",
       "<th>google_lat</th>\n",
       "<th>google_long</th>\n",
       "</tr>\n",
       "</thead>\n",
       "<tbody>\n",
       "<tr>\n",
       "<td>1</td>\n",
       "<td>3rd Ave & Broad St</td>\n",
       "<td>BT-01</td>\n",
       "<td>47.618418</td>\n",
       "<td>-122.350964</td>\n",
       "<td>18</td>\n",
       "<td>10/13/2014</td>\n",
       "<td style='text-align: right'>37.35177993774414</td>\n",
       "<td style='text-align: right'>47.618418</td>\n",
       "<td style='text-align: right'>-122.350964</td>\n",
       "</tr>\n",
       "<tr>\n",
       "<td>2</td>\n",
       "<td>2nd Ave & Vine St</td>\n",
       "<td>BT-03</td>\n",
       "<td>47.615829</td>\n",
       "<td>-122.348564</td>\n",
       "<td>16</td>\n",
       "<td>10/13/2014</td>\n",
       "<td style='text-align: right'>33.81583023071289</td>\n",
       "<td style='text-align: right'>47.615829</td>\n",
       "<td style='text-align: right'>-122.348564</td>\n",
       "</tr>\n",
       "<tr>\n",
       "<td>3</td>\n",
       "<td>6th Ave & Blanchard St</td>\n",
       "<td>BT-04</td>\n",
       "<td>47.616094</td>\n",
       "<td>-122.341102</td>\n",
       "<td>16</td>\n",
       "<td>10/13/2014</td>\n",
       "<td style='text-align: right'>34.27405548095703</td>\n",
       "<td style='text-align: right'>47.616094</td>\n",
       "<td style='text-align: right'>-122.341102</td>\n",
       "</tr>\n",
       "<tr>\n",
       "<td>4</td>\n",
       "<td>2nd Ave & Blanchard St</td>\n",
       "<td>BT-05</td>\n",
       "<td>47.61311</td>\n",
       "<td>-122.344208</td>\n",
       "<td>14</td>\n",
       "<td>10/13/2014</td>\n",
       "<td style='text-align: right'>44.28325653076172</td>\n",
       "<td style='text-align: right'>47.61311</td>\n",
       "<td style='text-align: right'>-122.344208</td>\n",
       "</tr>\n",
       "<tr>\n",
       "<td>5</td>\n",
       "<td>2nd Ave & Pine St</td>\n",
       "<td>CBD-13</td>\n",
       "<td>47.610185</td>\n",
       "<td>-122.339641</td>\n",
       "<td>18</td>\n",
       "<td>10/13/2014</td>\n",
       "<td style='text-align: right'>42.46038055419922</td>\n",
       "<td style='text-align: right'>47.610185</td>\n",
       "<td style='text-align: right'>-122.339641</td>\n",
       "</tr>\n",
       "</tbody>\n",
       "</table>\n",
       "<p><strong>...</strong></p>"
      ],
      "text/plain": [
       "+-----+--------------------------+----------+-------------+---------------+-----------+--------------+-------------------+------------+-------------+\n",
       "| id  | name                     | terminal | lat         | long          | dockcount | online       | elevation         | google_lat | google_long |\n",
       "+=====+==========================+==========+=============+===============+===========+==============+===================+============+=============+\n",
       "| '1' | '3rd Ave & Broad St'     | 'BT-01'  | '47.618418' | '-122.350964' | '18'      | '10/13/2014' | 37.35177993774414 |  47.618418 | -122.350964 |\n",
       "+-----+--------------------------+----------+-------------+---------------+-----------+--------------+-------------------+------------+-------------+\n",
       "| '2' | '2nd Ave & Vine St'      | 'BT-03'  | '47.615829' | '-122.348564' | '16'      | '10/13/2014' | 33.81583023071289 |  47.615829 | -122.348564 |\n",
       "+-----+--------------------------+----------+-------------+---------------+-----------+--------------+-------------------+------------+-------------+\n",
       "| '3' | '6th Ave & Blanchard St' | 'BT-04'  | '47.616094' | '-122.341102' | '16'      | '10/13/2014' | 34.27405548095703 |  47.616094 | -122.341102 |\n",
       "+-----+--------------------------+----------+-------------+---------------+-----------+--------------+-------------------+------------+-------------+\n",
       "| '4' | '2nd Ave & Blanchard St' | 'BT-05'  | '47.61311'  | '-122.344208' | '14'      | '10/13/2014' | 44.28325653076172 |   47.61311 | -122.344208 |\n",
       "+-----+--------------------------+----------+-------------+---------------+-----------+--------------+-------------------+------------+-------------+\n",
       "| '5' | '2nd Ave & Pine St'      | 'CBD-13' | '47.610185' | '-122.339641' | '18'      | '10/13/2014' | 42.46038055419922 |  47.610185 | -122.339641 |\n",
       "+-----+--------------------------+----------+-------------+---------------+-----------+--------------+-------------------+------------+-------------+\n",
       "..."
      ]
     },
     "execution_count": 8,
     "metadata": {},
     "output_type": "execute_result"
    }
   ],
   "source": [
    "# use annex for a quick join, assuming that the rows are in the same order\n",
    "joined_table = stations_table.annex(lat_lon_elevation_table.rename({'lat': 'google_lat', 'lon': 'google_long'}))\n",
    "# Row order should have been the same coming back from the Googles, but let's just check\n",
    "for record in joined_table.records():\n",
    "    if str(record.lat) != str(record.google_lat) or str(record.long) != str(record.google_long):\n",
    "        raise Exception('this row is broken: ', record)\n",
    "\n",
    "joined_table"
   ]
  },
  {
   "cell_type": "code",
   "execution_count": 11,
   "metadata": {
    "collapsed": false
   },
   "outputs": [],
   "source": [
    "try:\n",
    "    os.mkdir('csv')\n",
    "except Exception:\n",
    "    # probably the directory already exists\n",
    "    pass\n",
    "joined_table.tocsv('csv/stations_with_elevation.csv')\n",
    "joined_table.tojson('json/stations_with_elevation.json')"
   ]
  },
  {
   "cell_type": "code",
   "execution_count": null,
   "metadata": {
    "collapsed": true
   },
   "outputs": [],
   "source": []
  }
 ],
 "metadata": {
  "kernelspec": {
   "display_name": "Python 3",
   "language": "python",
   "name": "python3"
  },
  "language_info": {
   "codemirror_mode": {
    "name": "ipython",
    "version": 3
   },
   "file_extension": ".py",
   "mimetype": "text/x-python",
   "name": "python",
   "nbconvert_exporter": "python",
   "pygments_lexer": "ipython3",
   "version": "3.4.3"
  }
 },
 "nbformat": 4,
 "nbformat_minor": 0
}
